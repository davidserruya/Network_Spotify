{
 "cells": [
  {
   "cell_type": "code",
   "execution_count": null,
   "id": "5523a599-9665-4d9d-b9db-9b41eaad2986",
   "metadata": {},
   "outputs": [],
   "source": []
  },
  {
   "cell_type": "markdown",
   "id": "519bf7cd-f066-44bf-9bab-a12374d32300",
   "metadata": {},
   "source": [
    "https://www.youtube.com/watch?v=mBycigbJQzA"
   ]
  },
  {
   "cell_type": "markdown",
   "id": "d1816c7c-5295-4767-b4c8-b307ff20a55b",
   "metadata": {},
   "source": [
    "# Part 1: Load the libraries"
   ]
  },
  {
   "cell_type": "code",
   "execution_count": 4,
   "id": "6b663b3d-395c-4d10-8073-72b8815ef3de",
   "metadata": {},
   "outputs": [],
   "source": [
    "import numpy as np\n",
    "import networkx as nx\n",
    "import matplotlib.pyplot as plt\n",
    "from IPython.display import clear_output"
   ]
  },
  {
   "cell_type": "code",
   "execution_count": 7,
   "id": "c50e16b7-31c3-41f2-a14b-af64df85c3f9",
   "metadata": {
    "scrolled": true
   },
   "outputs": [],
   "source": [
    "!pip install spotipy\n",
    "clear_output()"
   ]
  },
  {
   "cell_type": "code",
   "execution_count": 8,
   "id": "ba169dd9-12ab-4fce-b4f1-7dea4b5ef9a9",
   "metadata": {
    "scrolled": true
   },
   "outputs": [
    {
     "name": "stdout",
     "output_type": "stream",
     "text": [
      "Requirement already satisfied: requests in /opt/mamba/lib/python3.11/site-packages (2.31.0)\n",
      "Requirement already satisfied: charset-normalizer<4,>=2 in /opt/mamba/lib/python3.11/site-packages (from requests) (3.3.2)\n",
      "Requirement already satisfied: idna<4,>=2.5 in /opt/mamba/lib/python3.11/site-packages (from requests) (3.6)\n",
      "Requirement already satisfied: urllib3<3,>=1.21.1 in /opt/mamba/lib/python3.11/site-packages (from requests) (1.26.18)\n",
      "Requirement already satisfied: certifi>=2017.4.17 in /opt/mamba/lib/python3.11/site-packages (from requests) (2024.2.2)\n",
      "Note: you may need to restart the kernel to use updated packages.\n"
     ]
    }
   ],
   "source": [
    "pip install requests"
   ]
  },
  {
   "cell_type": "code",
   "execution_count": 17,
   "id": "0c275969-be90-4503-af9f-d27047acd03a",
   "metadata": {},
   "outputs": [],
   "source": [
    "import base64\n",
    "import time\n",
    "import spotipy\n",
    "import requests\n",
    "from spotipy.oauth2 import SpotifyClientCredentials\n",
    "from spotipy.oauth2 import SpotifyOAuth\n",
    "from flask import Flask, request, url_for, session, redirect\n",
    "import json\n",
    "from requests import post\n",
    "import csv"
   ]
  },
  {
   "cell_type": "code",
   "execution_count": 10,
   "id": "852cba61-4d72-4d5a-afe9-d381004ccbea",
   "metadata": {},
   "outputs": [],
   "source": [
    "## Part 1.1 Access to Spotify API"
   ]
  },
  {
   "cell_type": "code",
   "execution_count": 11,
   "id": "e9e15110-ade7-4009-88e1-09248fc3fd36",
   "metadata": {},
   "outputs": [],
   "source": [
    "# Assuming client_id and client_secret are defined somewhere in your code\n",
    "client_id = \"d254f8fb33f04f3387783254d645fe0a\"\n",
    "client_secret =\"3d49d97709bb40c79833aae56ec78dda\"\n",
    "\n",
    "#credmanager = SpotifyClientCredentials(client_id=client_id, client_secret=client_secret)\n",
    "#sp = spotipy.Spotify(client_credentials_manager=credmanager)"
   ]
  },
  {
   "cell_type": "markdown",
   "id": "2e792846-b914-45fe-9592-6a1606a0f863",
   "metadata": {},
   "source": [
    "# Part 2: Get the token "
   ]
  },
  {
   "cell_type": "code",
   "execution_count": 12,
   "id": "44134ead-7ffe-470e-91e1-ac609b6d5856",
   "metadata": {},
   "outputs": [],
   "source": [
    "# function to get the token info from the session\n",
    "def get_token():\n",
    "    auth_string = client_id + \":\" + client_secret\n",
    "    auth_bytes = auth_string.encode(\"utf-8\")\n",
    "    auth_base64 = str(base64.b64encode(auth_bytes), \"utf-8\")\n",
    "\n",
    "    url = 'https://accounts.spotify.com/api/token'\n",
    "    headers = {\n",
    "        'Authorization': 'Basic ' + auth_base64,\n",
    "        'content-type': 'application/x-www-form-urlencoded'\n",
    "      }\n",
    "    data = {\"grant_type\": \"client_credentials\"}\n",
    "    result = requests.post(url, headers=headers, data=data)\n",
    "    json_result = json.loads(result.content)\n",
    "    token = json_result[\"access_token\"]\n",
    "    return token "
   ]
  },
  {
   "cell_type": "code",
   "execution_count": null,
   "id": "da9d9256-99ea-4401-816e-f08b3d12862c",
   "metadata": {},
   "outputs": [],
   "source": []
  },
  {
   "cell_type": "markdown",
   "id": "19c857a2-bd0f-4e88-a840-0ed8f619d009",
   "metadata": {},
   "source": [
    "# Part 3: Working on artists info"
   ]
  },
  {
   "cell_type": "code",
   "execution_count": 13,
   "id": "74080490-0d67-4d9f-b62a-0737f0a6333b",
   "metadata": {},
   "outputs": [
    {
     "name": "stdout",
     "output_type": "stream",
     "text": [
      "1. Cruel Summer\n",
      "2. Lover\n",
      "3. Anti-Hero\n",
      "4. cardigan\n",
      "5. Is It Over Now? (Taylor's Version) (From The Vault)\n",
      "6. Don’t Blame Me\n",
      "7. august\n",
      "8. Karma\n",
      "9. Love Story (Taylor’s Version)\n",
      "10. Blank Space\n"
     ]
    }
   ],
   "source": [
    "def get_auth_header(token):\n",
    "    return {\"Authorization\": \"Bearer \" + token}\n",
    "\n",
    "def search_for_artist(token, artist_name):\n",
    "    url = \"https://api.spotify.com/v1/search\"\n",
    "    headers = get_auth_header(token)\n",
    "    query = f\"?q={artist_name}&type=artist&limit=1\"\n",
    "    query_url = url + query\n",
    "    # Here we use requests.get() to make the HTTP GET request\n",
    "    result = requests.get(query_url, headers=headers)\n",
    "    json_result = json.loads(result.content)['artists']['items']\n",
    "    if len(json_result) == 0: \n",
    "        print (\"No artist with this name exists ...\")\n",
    "        return None\n",
    "    return json_result[0]\n",
    "\n",
    "def get_songs_by_artist(token, artist_id):\n",
    "    url = f\"https://api.spotify.com/v1/artists/{artist_id}/top-tracks?country=FR\"\n",
    "    headers = get_auth_header(token)\n",
    "    result = requests.get(url, headers=headers)\n",
    "    json_result = json.loads(result.content)[\"tracks\"]\n",
    "    return json_result\n",
    "\n",
    "def main():\n",
    "    token = get_token()\n",
    "    result = search_for_artist(token, \"Taylor Swift\")\n",
    "    if result:\n",
    "        artist_id = result[\"id\"]\n",
    "        songs = get_songs_by_artist(token, artist_id)\n",
    "        for idx, song in enumerate(songs):\n",
    "            print (f\"{idx +1}. {song['name']}\")\n",
    "\n",
    "if __name__ == \"__main__\":\n",
    "    main()"
   ]
  },
  {
   "cell_type": "code",
   "execution_count": 15,
   "id": "26155195-de57-42c5-b1b1-c7af215224ce",
   "metadata": {},
   "outputs": [
    {
     "data": {
      "text/plain": [
       "'Taylor Swift'"
      ]
     },
     "execution_count": 15,
     "metadata": {},
     "output_type": "execute_result"
    }
   ],
   "source": [
    "token = get_token()\n",
    "result = search_for_artist(token, \"Taylor Swift\")\n",
    "artist_id = result[\"id\"]\n",
    "songs = get_songs_by_artist(token, artist_id)\n",
    "(result[\"name\"])"
   ]
  },
  {
   "cell_type": "code",
   "execution_count": 16,
   "id": "9d2caf62-2a9a-4fbd-a31b-dd0fa374f95a",
   "metadata": {},
   "outputs": [
    {
     "name": "stdout",
     "output_type": "stream",
     "text": [
      "1. Cruel Summer\n",
      "2. Lover\n",
      "3. Anti-Hero\n",
      "4. cardigan\n",
      "5. Is It Over Now? (Taylor's Version) (From The Vault)\n",
      "6. Don’t Blame Me\n",
      "7. august\n",
      "8. Karma\n",
      "9. Love Story (Taylor’s Version)\n",
      "10. Blank Space\n"
     ]
    }
   ],
   "source": [
    "for idx, song in enumerate(songs):\n",
    "    print (f\"{idx +1}. {song['name']}\")"
   ]
  },
  {
   "cell_type": "code",
   "execution_count": null,
   "id": "7cc3a59b-bc80-4e27-abda-6a668d6f385c",
   "metadata": {},
   "outputs": [],
   "source": []
  },
  {
   "cell_type": "markdown",
   "id": "4a7afc39-bc6f-46c2-bb6f-582cfe66bbfa",
   "metadata": {},
   "source": [
    "# Part 4: Get the attributes of Clara Luciani"
   ]
  },
  {
   "cell_type": "code",
   "execution_count": 18,
   "id": "7253cff2-1da1-48f6-99cb-2107bdde9750",
   "metadata": {},
   "outputs": [
    {
     "name": "stdout",
     "output_type": "stream",
     "text": [
      "Les informations des artistes ont été écrites dans artist_info.csv.\n"
     ]
    }
   ],
   "source": [
    "def read_artist_pairs_from_txt(file_path):\n",
    "    artist_pairs = []\n",
    "    with open(file_path, 'r', encoding='utf-8') as file:\n",
    "        for line in file:\n",
    "            pair = line.strip().split(', ')\n",
    "            artist_pairs.append(pair)\n",
    "    return artist_pairs\n",
    "\n",
    "def write_artist_info_to_csv(artist_info, file_path):\n",
    "    with open(file_path, mode='w', newline='', encoding='utf-8') as file:\n",
    "        writer = csv.DictWriter(file, fieldnames=artist_info[0].keys())\n",
    "        writer.writeheader()\n",
    "        writer.writerows(artist_info)\n",
    "\n",
    "def main():\n",
    "    # Read artist pairs from the text file\n",
    "    artist_pairs = read_artist_pairs_from_txt(\"artist_network_clara_luciani.txt\")\n",
    "    \n",
    "    # List to store unique artist names\n",
    "    unique_artist_names = set()\n",
    "    for pair in artist_pairs:\n",
    "        unique_artist_names.update(pair)\n",
    "    \n",
    "    # List to store artist information\n",
    "    all_artist_info = []\n",
    "    \n",
    "    # Get access token\n",
    "    token = get_token()\n",
    "    \n",
    "    # Retrieve information for each unique artist\n",
    "    for artist_name in unique_artist_names:\n",
    "        # Search for the artist\n",
    "        result = search_for_artist(token, artist_name)\n",
    "        if result:\n",
    "            artist_id = result[\"id\"]\n",
    "            \n",
    "            # API URL to get artist information\n",
    "            url = f\"https://api.spotify.com/v1/artists/{artist_id}\"\n",
    "            \n",
    "            # Send request to get artist information\n",
    "            headers = get_auth_header(token)\n",
    "            response = requests.get(url, headers=headers)\n",
    "            artist_info = json.loads(response.content)\n",
    "            \n",
    "            # Add artist information to the list\n",
    "            all_artist_info.append({\n",
    "                \"Artist Name\": artist_info[\"name\"],\n",
    "                \"Artist ID\": artist_info[\"id\"],\n",
    "                \"External URL\": artist_info[\"external_urls\"][\"spotify\"],\n",
    "                \"Followers\": artist_info[\"followers\"][\"total\"],\n",
    "                \"Genres\": \", \".join(artist_info[\"genres\"]),\n",
    "                \"Popularity\": artist_info[\"popularity\"],\n",
    "                \"Image URL\": artist_info[\"images\"][0][\"url\"] if artist_info[\"images\"] else None\n",
    "            })\n",
    "    \n",
    "    # Output CSV file path\n",
    "    output_file_path = \"Ego_attr_clara_luciani.csv\"\n",
    "    \n",
    "    # Write artist information to a CSV file\n",
    "    write_artist_info_to_csv(all_artist_info, output_file_path)\n",
    "    print(f\"Artist information has been written to {output_file_path}.\")\n",
    "\n",
    "if __name__ == \"__main__\":\n",
    "    main()"
   ]
  },
  {
   "cell_type": "code",
   "execution_count": null,
   "id": "240a6e6d-c5d3-4b04-9405-18eebde40ae0",
   "metadata": {},
   "outputs": [],
   "source": []
  },
  {
   "cell_type": "markdown",
   "id": "90f36f60-09fe-43d4-960c-beeaea3d647a",
   "metadata": {},
   "source": [
    "# Part 5: Get the attributes of Taylor Swift"
   ]
  },
  {
   "cell_type": "code",
   "execution_count": 26,
   "id": "0b2d0889-51ca-457b-94f0-6d345df1f53e",
   "metadata": {},
   "outputs": [
    {
     "name": "stdout",
     "output_type": "stream",
     "text": [
      "Les informations des artistes ont été écrites dans artist_info.csv.\n"
     ]
    }
   ],
   "source": [
    "def read_artist_pairs_from_txt(file_path):\n",
    "    artist_pairs = []\n",
    "    with open(file_path, 'r', encoding='utf-8') as file:\n",
    "        for line in file:\n",
    "            pair = line.strip().split(', ')\n",
    "            artist_pairs.append(pair)\n",
    "    return artist_pairs\n",
    "\n",
    "def write_artist_info_to_csv(artist_info, file_path):\n",
    "    with open(file_path, mode='w', newline='', encoding='utf-8') as file:\n",
    "        writer = csv.DictWriter(file, fieldnames=artist_info[0].keys())\n",
    "        writer.writeheader()\n",
    "        writer.writerows(artist_info)\n",
    "\n",
    "def main():\n",
    "    # Lecture des paires d'artistes depuis le fichier texte\n",
    "    artist_pairs = read_artist_pairs_from_txt(\"artist_network_Taylor.txt\")\n",
    "    \n",
    "    # Liste pour stocker les noms d'artistes uniques\n",
    "    unique_artist_names = set()\n",
    "    for pair in artist_pairs:\n",
    "        unique_artist_names.update(pair)\n",
    "    \n",
    "    # Liste pour stocker les informations des artistes\n",
    "    all_artist_info = []\n",
    "    \n",
    "    # Obtenir le jeton d'accès\n",
    "    token = get_token()\n",
    "    \n",
    "    # Rechercher les informations de chaque artiste unique\n",
    "    for artist_name in unique_artist_names:\n",
    "        # Recherche de l'artiste\n",
    "        result = search_for_artist(token, artist_name)\n",
    "        if result:\n",
    "            artist_id = result[\"id\"]\n",
    "            \n",
    "            # URL de l'API pour obtenir les informations de l'artiste\n",
    "            url = f\"https://api.spotify.com/v1/artists/{artist_id}\"\n",
    "            \n",
    "            # Envoi de la requête pour obtenir les informations de l'artiste\n",
    "            headers = get_auth_header(token)\n",
    "            response = requests.get(url, headers=headers)\n",
    "            artist_info = json.loads(response.content)\n",
    "            \n",
    "            # Ajout des informations de l'artiste à la liste\n",
    "            all_artist_info.append({\n",
    "                \"Artist Name\": artist_info[\"name\"],\n",
    "                \"Artist ID\": artist_info[\"id\"],\n",
    "                \"External URL\": artist_info[\"external_urls\"][\"spotify\"],\n",
    "                \"Followers\": artist_info[\"followers\"][\"total\"],\n",
    "                \"Genres\": \", \".join(artist_info[\"genres\"]),\n",
    "                \"Popularity\": artist_info[\"popularity\"],\n",
    "                \"Image URL\": artist_info[\"images\"][0][\"url\"] if artist_info[\"images\"] else None\n",
    "            })\n",
    "    \n",
    "    # Chemin du fichier CSV de sortie\n",
    "    output_file_path = \"Ego_attr_Taylor_Swift.csv\"\n",
    "    \n",
    "    # Écrire les informations des artistes dans un fichier CSV\n",
    "    write_artist_info_to_csv(all_artist_info, output_file_path)\n",
    "    print(f\"Les informations des artistes ont été écrites dans {output_file_path}.\")\n",
    "\n",
    "if __name__ == \"__main__\":\n",
    "    main()"
   ]
  },
  {
   "cell_type": "code",
   "execution_count": null,
   "id": "1d987462-ef06-4f49-b0a4-f2224b9c20f5",
   "metadata": {},
   "outputs": [],
   "source": []
  },
  {
   "cell_type": "code",
   "execution_count": null,
   "id": "2724bb8f-6a50-49c2-888e-faa029318168",
   "metadata": {
    "scrolled": true
   },
   "outputs": [],
   "source": [
    "#2eme essai pour avoir les attr des artistes\n",
    "\n",
    "def get_token():\n",
    "    client_id = \"d254f8fb33f04f3387783254d645fe0a\"\n",
    "    client_secret =\"3d49d97709bb40c79833aae56ec78dda\"\n",
    "    url = 'https://accounts.spotify.com/api/token'\n",
    "    headers = {\n",
    "        'Authorization': 'Basic ' + base64.b64encode(f\"{client_id}:{client_secret}\".encode('utf-8')).decode('utf-8')\n",
    "    }\n",
    "    data = {\"grant_type\": \"client_credentials\"}\n",
    "    response = requests.post(url, headers=headers, data=data)\n",
    "    if response.status_code == 200:\n",
    "        return response.json()[\"access_token\"]\n",
    "    else:\n",
    "        print(\"Erreur lors de la récupération du token.\")\n",
    "        return None\n",
    "\n",
    "access_token = get_token()\n",
    "\n",
    "def get_artist_id(artist_name):\n",
    "    try:\n",
    "        headers = {'Authorization': f'Bearer {access_token}'}\n",
    "        url = f'https://api.spotify.com/v1/search?q={artist_name}&type=artist'\n",
    "        response = requests.get(url, headers=headers)\n",
    "        if response.status_code == 200:\n",
    "            artist_data = response.json()['artists']['items']\n",
    "            if artist_data:\n",
    "                return artist_data[0]['id']\n",
    "            else:\n",
    "                print(\"Aucun artiste trouvé.\")\n",
    "                return None\n",
    "        else:\n",
    "            print(f\"Erreur: {response.status_code}\")\n",
    "            return None\n",
    "    except Exception as e:\n",
    "        print(f\"Une erreur s'est produite: {e}\")\n",
    "        return None\n",
    "\n",
    "def get_artist_attributes(artist_id):\n",
    "    try:\n",
    "        headers = {'Authorization': f'Bearer {access_token}'}\n",
    "        url = f'https://api.spotify.com/v1/artists/{artist_id}'\n",
    "        response = requests.get(url, headers=headers)\n",
    "        if response.status_code == 200:\n",
    "            return response.json()\n",
    "        else:\n",
    "            print(f\"Erreur: {response.status_code}\")\n",
    "            return None\n",
    "    except Exception as e:\n",
    "        print(f\"Une erreur s'est produite: {e}\")\n",
    "        return None\n",
    "\n",
    "def main():\n",
    "    with open(\"artist_network_clara_luciani.txt\", 'r') as file:\n",
    "        artist_pairs = [line.strip().split(\", \") for line in file.readlines()]\n",
    "\n",
    "    with open(\"artist_attributes.csv\", 'w', newline='', encoding='utf-8') as csvfile:\n",
    "        fieldnames = [\"Artist Name\", \"Artist ID\", \"External URL\", \"Followers\", \"Genres\", \"Popularity\", \"Image URL\"]\n",
    "        writer = csv.DictWriter(csvfile, fieldnames=fieldnames)\n",
    "        writer.writeheader()\n",
    "\n",
    "        for pair in artist_pairs:\n",
    "            source_artist_name, _ = pair\n",
    "            source_artist_id = get_artist_id(source_artist_name)\n",
    "            if source_artist_id:\n",
    "                artist_attributes = get_artist_attributes(source_artist_id)\n",
    "                if artist_attributes:\n",
    "                    writer.writerow({\n",
    "                        \"Artist Name\": artist_attributes['name'],\n",
    "                        \"Artist ID\": artist_attributes['id'],\n",
    "                        \"External URL\": artist_attributes['external_urls']['spotify'],\n",
    "                        \"Followers\": artist_attributes['followers']['total'],\n",
    "                        \"Genres\": \", \".join(artist_attributes['genres']),\n",
    "                        \"Popularity\": artist_attributes['popularity'],\n",
    "                        \"Image URL\": artist_attributes['images'][0]['url'] if artist_attributes['images'] else \"\"\n",
    "                    })\n",
    "            time.sleep(5)  # Attendre un peu entre chaque requête pour éviter de dépasser les limites de l'API\n",
    "\n",
    "if __name__ == \"__main__\":\n",
    "    main()\n"
   ]
  },
  {
   "cell_type": "code",
   "execution_count": null,
   "id": "a4a05587-d74b-4c1f-a918-603c9ccd7c78",
   "metadata": {},
   "outputs": [],
   "source": []
  },
  {
   "cell_type": "markdown",
   "id": "91ce7dd4-4a62-425c-81f5-aa4271f79ad8",
   "metadata": {},
   "source": [
    "# Part 6: Get attributes of the related IDs for each ego ID"
   ]
  },
  {
   "cell_type": "code",
   "execution_count": null,
   "id": "12357d09-607b-4d68-b93d-2a7f4c5fc293",
   "metadata": {},
   "outputs": [],
   "source": [
    "#1er essai : probleme dans la boucle\n",
    "\n",
    "def get_token():\n",
    "    client_id = \"d254f8fb33f04f3387783254d645fe0a\"\n",
    "    client_secret = \"3d49d97709bb40c79833aae56ec78dda\"\n",
    "    url = 'https://accounts.spotify.com/api/token'\n",
    "    headers = {\n",
    "        'Authorization': 'Basic ' + base64.b64encode(f\"{client_id}:{client_secret}\".encode('utf-8')).decode('utf-8')\n",
    "    }\n",
    "    data = {\"grant_type\": \"client_credentials\"}\n",
    "    response = requests.post(url, headers=headers, data=data)\n",
    "    if response.status_code == 200:\n",
    "        return response.json()[\"access_token\"]\n",
    "    else:\n",
    "        print(\"Error retrieving the token.\")\n",
    "        return None\n",
    "\n",
    "access_token = get_token()\n",
    "\n",
    "def get_artist_related_artists(artist_id):\n",
    "    try:\n",
    "        headers = {'Authorization': f'Bearer {access_token}'}\n",
    "        url = f'https://api.spotify.com/v1/artists/{artist_id}/related-artists'\n",
    "        response = requests.get(url, headers=headers)\n",
    "        if response.status_code == 200:\n",
    "            artists = response.json()['artists']\n",
    "            return artists\n",
    "        else:\n",
    "            print(f\"Error: {response.status_code}\")\n",
    "            return None\n",
    "    except Exception as e:\n",
    "        print(f\"An error occurred: {e}\")\n",
    "        return None\n",
    "\n",
    "def main():\n",
    "    with open(\"artist_network_clara_luciani.txt\", 'r') as file:\n",
    "        artist_pairs = [line.strip().split(\", \") for line in file.readlines()]\n",
    "\n",
    "    with open(\"related_artists_attributes.csv\", 'w', newline='', encoding='utf-8') as csvfile:\n",
    "        fieldnames = [\"Ego Artist Name\", \"Related Artist Name\", \"Artist ID\", \"External URL\", \"Followers\", \"Genres\", \"Popularity\", \"Image URL\"]\n",
    "        writer = csv.DictWriter(csvfile, fieldnames=fieldnames)\n",
    "        writer.writeheader()\n",
    "\n",
    "        for pair in artist_pairs:\n",
    "            ego_artist_name, related_artist_name = pair\n",
    "            # Assuming get_artist_id(ego_artist_name) is defined elsewhere\n",
    "            ego_artist_id = get_artist_id(ego_artist_name)\n",
    "            related_artists = get_artist_related_artists(ego_artist_id)\n",
    "            if related_artists:\n",
    "                for artist in related_artists:\n",
    "                    writer.writerow({\n",
    "                        \"Ego Artist Name\": ego_artist_name,\n",
    "                        \"Related Artist Name\": artist['name'],\n",
    "                        \"Artist ID\": artist['id'],\n",
    "                        \"External URL\": artist['external_urls']['spotify'],\n",
    "                        \"Followers\": artist['followers']['total'],\n",
    "                        \"Genres\": \", \".join(artist['genres']),\n",
    "                        \"Popularity\": artist['popularity'],\n",
    "                        \"Image URL\": artist['images'][0]['url'] if artist['images'] else \"\"\n",
    "                    })\n",
    "            time.sleep(15)  # Wait a bit between each request to avoid exceeding API limits\n",
    "\n",
    "if __name__ == \"__main__\":\n",
    "    main()\n",
    "\n"
   ]
  },
  {
   "cell_type": "code",
   "execution_count": null,
   "id": "beacdcac-1671-44a7-9c1f-3a8604e77e46",
   "metadata": {},
   "outputs": [],
   "source": [
    "## Attributes of alters of Clara Luciani"
   ]
  },
  {
   "cell_type": "code",
   "execution_count": null,
   "id": "119dde56-aebc-41e6-8f56-a7c34f92eede",
   "metadata": {},
   "outputs": [],
   "source": [
    "\n",
    "def get_token():\n",
    "    client_id = \"d254f8fb33f04f3387783254d645fe0a\"\n",
    "    client_secret = \"3d49d97709bb40c79833aae56ec78dda\"\n",
    "    url = 'https://accounts.spotify.com/api/token'\n",
    "    headers = {\n",
    "        'Authorization': 'Basic ' + base64.b64encode(f\"{client_id}:{client_secret}\".encode('utf-8')).decode('utf-8')\n",
    "    }\n",
    "    data = {\"grant_type\": \"client_credentials\"}\n",
    "    response = requests.post(url, headers=headers, data=data)\n",
    "    if response.status_code == 200:\n",
    "        return response.json()[\"access_token\"]\n",
    "    else:\n",
    "        print(\"Error while retrieving the token.\")\n",
    "        return None\n",
    "\n",
    "access_token = get_token()\n",
    "\n",
    "def get_artist_related_artists(artist_id):\n",
    "    try:\n",
    "        headers = {'Authorization': f'Bearer {access_token}'}\n",
    "        url = f'https://api.spotify.com/v1/artists/{artist_id}/related-artists'\n",
    "        response = requests.get(url, headers=headers)\n",
    "        if response.status_code == 200:\n",
    "            artists = response.json()['artists']\n",
    "            return artists\n",
    "        else:\n",
    "            print(f\"Error: {response.status_code}\")\n",
    "            return None\n",
    "    except Exception as e:\n",
    "        print(f\"An error occurred: {e}\")\n",
    "        return None\n",
    "\n",
    "def main():\n",
    "    with open(\"artist_network_clara_luciani.txt\", 'r') as file:\n",
    "        artist_pairs = [line.strip().split(\", \") for line in file.readlines()]\n",
    "\n",
    "    with open(\"related_artists_attributes_clara_luciani.csv\", 'w', newline='', encoding='utf-8') as csvfile:\n",
    "        fieldnames = [\"Ego Artist Name\", \"Related Artist Name\", \"Artist ID\", \"External URL\", \"Followers\", \"Genres\", \"Popularity\", \"Image URL\"]\n",
    "        writer = csv.DictWriter(csvfile, fieldnames=fieldnames)\n",
    "        writer.writeheader()\n",
    "\n",
    "        for pair in artist_pairs:\n",
    "            ego_artist_name, related_artist_name = pair\n",
    "            ego_artist_id = get_artist_id(ego_artist_name)\n",
    "            related_artists = get_artist_related_artists(ego_artist_id)\n",
    "            if related_artists:\n",
    "                for artist in related_artists:\n",
    "                    writer.writerow({\n",
    "                        \"Ego Artist Name\": ego_artist_name,\n",
    "                        \"Related Artist Name\": artist['name'],\n",
    "                        \"Artist ID\": artist['id'],\n",
    "                        \"External URL\": artist['external_urls']['spotify'],\n",
    "                        \"Followers\": artist['followers']['total'],\n",
    "                        \"Genres\": \", \".join(artist['genres']),\n",
    "                        \"Popularity\": artist['popularity'],\n",
    "                        \"Image URL\": artist['images'][0]['url'] if artist['images'] else \"\"\n",
    "                    })\n",
    "                    time.sleep(15)  # Wait a bit between each request to avoid exceeding API limits\n",
    "\n",
    "if __name__ == \"__main__\":\n",
    "    main()\n"
   ]
  },
  {
   "cell_type": "code",
   "execution_count": null,
   "id": "86704b6c-43f9-43d5-a035-7497986155db",
   "metadata": {},
   "outputs": [],
   "source": [
    "## Attributes of alters of Taylor Swift"
   ]
  },
  {
   "cell_type": "code",
   "execution_count": null,
   "id": "31468337-2045-4add-9c7c-48219193a21e",
   "metadata": {},
   "outputs": [],
   "source": [
    "def get_token():\n",
    "    client_id = \"d254f8fb33f04f3387783254d645fe0a\"\n",
    "    client_secret = \"3d49d97709bb40c79833aae56ec78dda\"\n",
    "    url = 'https://accounts.spotify.com/api/token'\n",
    "    headers = {\n",
    "        'Authorization': 'Basic ' + base64.b64encode(f\"{client_id}:{client_secret}\".encode('utf-8')).decode('utf-8')\n",
    "    }\n",
    "    data = {\"grant_type\": \"client_credentials\"}\n",
    "    response = requests.post(url, headers=headers, data=data)\n",
    "    if response.status_code == 200:\n",
    "        return response.json()[\"access_token\"]\n",
    "    else:\n",
    "        print(\"Error while retrieving the token.\")\n",
    "        return None\n",
    "\n",
    "access_token = get_token()\n",
    "\n",
    "def get_artist_related_artists(artist_id):\n",
    "    try:\n",
    "        headers = {'Authorization': f'Bearer {access_token}'}\n",
    "        url = f'https://api.spotify.com/v1/artists/{artist_id}/related-artists'\n",
    "        response = requests.get(url, headers=headers)\n",
    "        if response.status_code == 200:\n",
    "            artists = response.json()['artists']\n",
    "            return artists\n",
    "        else:\n",
    "            print(f\"Error: {response.status_code}\")\n",
    "            return None\n",
    "    except Exception as e:\n",
    "        print(f\"An error occurred: {e}\")\n",
    "        return None\n",
    "\n",
    "def main():\n",
    "    with open(\"artist_network_Taylor.txt\", 'r') as file:\n",
    "        artist_pairs = [line.strip().split(\", \") for line in file.readlines()]\n",
    "\n",
    "    with open(\"related_artists_attributes_Taylor_Swift.csv\", 'w', newline='', encoding='utf-8') as csvfile:\n",
    "        fieldnames = [\"Ego Artist Name\", \"Related Artist Name\", \"Artist ID\", \"External URL\", \"Followers\", \"Genres\", \"Popularity\", \"Image URL\"]\n",
    "        writer = csv.DictWriter(csvfile, fieldnames=fieldnames)\n",
    "        writer.writeheader()\n",
    "\n",
    "        for pair in artist_pairs:\n",
    "            ego_artist_name, related_artist_name = pair\n",
    "            ego_artist_id = get_artist_id(ego_artist_name)\n",
    "            related_artists = get_artist_related_artists(ego_artist_id)\n",
    "            if related_artists:\n",
    "                for artist in related_artists:\n",
    "                    writer.writerow({\n",
    "                        \"Ego Artist Name\": ego_artist_name,\n",
    "                        \"Related Artist Name\": artist['name'],\n",
    "                        \"Artist ID\": artist['id'],\n",
    "                        \"External URL\": artist['external_urls']['spotify'],\n",
    "                        \"Followers\": artist['followers']['total'],\n",
    "                        \"Genres\": \", \".join(artist['genres']),\n",
    "                        \"Popularity\": artist['popularity'],\n",
    "                        \"Image URL\": artist['images'][0]['url'] if artist['images'] else \"\"\n",
    "                    })\n",
    "                    time.sleep(5)  # Wait a bit between each request to avoid exceeding API limits\n",
    "\n",
    "if __name__ == \"__main__\":\n",
    "    main()\n"
   ]
  },
  {
   "cell_type": "code",
   "execution_count": null,
   "id": "b82798e3-ba84-4538-8770-ca2328b343cc",
   "metadata": {},
   "outputs": [],
   "source": []
  }
 ],
 "metadata": {
  "kernelspec": {
   "display_name": "Python 3 (ipykernel)",
   "language": "python",
   "name": "python3"
  },
  "language_info": {
   "codemirror_mode": {
    "name": "ipython",
    "version": 3
   },
   "file_extension": ".py",
   "mimetype": "text/x-python",
   "name": "python",
   "nbconvert_exporter": "python",
   "pygments_lexer": "ipython3",
   "version": "3.11.6"
  }
 },
 "nbformat": 4,
 "nbformat_minor": 5
}
